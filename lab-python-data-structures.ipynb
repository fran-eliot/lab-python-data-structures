{
 "cells": [
  {
   "cell_type": "markdown",
   "metadata": {
    "tags": []
   },
   "source": [
    "# Lab | Data Structures "
   ]
  },
  {
   "cell_type": "markdown",
   "metadata": {},
   "source": []
  },
  {
   "cell_type": "markdown",
   "metadata": {},
   "source": [
    "## Exercise: Managing Customer Orders\n",
    "\n",
    "As part of a business venture, you are starting an online store that sells various products. To ensure smooth operations, you need to develop a program that manages customer orders and inventory.\n",
    "\n",
    "Follow the steps below to complete the exercise:\n",
    "\n",
    "1. Define a list called `products` that contains the following items: \"t-shirt\", \"mug\", \"hat\", \"book\", \"keychain\".\n",
    "\n",
    "2. Create an empty dictionary called `inventory`.\n",
    "\n",
    "3. Ask the user to input the quantity of each product available in the inventory. Use the product names from the `products` list as keys in the `inventory` dictionary and assign the respective quantities as values.\n",
    "\n",
    "4. Create an empty set called `customer_orders`.\n",
    "\n",
    "5. Ask the user to input the name of three products that a customer wants to order (from those in the products list, meaning three products out of \"t-shirt\", \"mug\", \"hat\", \"book\" or \"keychain\". Add each product name to the `customer_orders` set.\n",
    "\n",
    "6. Print the products in the `customer_orders` set.\n",
    "\n",
    "7. Calculate the following order statistics:\n",
    "   - Total Products Ordered: The total number of products in the `customer_orders` set.\n",
    "   - Percentage of Products Ordered: The percentage of products ordered compared to the total available products.\n",
    "   \n",
    "   Store these statistics in a tuple called `order_status`.\n",
    "\n",
    "8. Print the order statistics using the following format:\n",
    "   ```\n",
    "   Order Statistics:\n",
    "   Total Products Ordered: <total_products_ordered>\n",
    "   Percentage of Products Ordered: <percentage_ordered>% \n",
    "   ```\n",
    "\n",
    "9. Update the inventory by subtracting 1 from the quantity of each product. Modify the `inventory` dictionary accordingly.\n",
    "\n",
    "10. Print the updated inventory, displaying the quantity of each product on separate lines.\n",
    "\n",
    "Solve the exercise by implementing the steps using the Python concepts of lists, dictionaries, sets, and basic input/output operations. "
   ]
  },
  {
   "cell_type": "code",
   "execution_count": 3,
   "metadata": {},
   "outputs": [
    {
     "name": "stdout",
     "output_type": "stream",
     "text": [
      "\n",
      "First inventory: {'t-shirt': 5, 'mug': 5, 'hat': 5, 'book': 5, 'keychain': 5}\n",
      "List of products: t-shirt,mug,hat,book,keychain\n",
      "List of products: t-shirt,mug,hat,book,keychain\n",
      "Duplicate product. Please choose a different one.\n",
      "List of products: t-shirt,mug,hat,book,keychain\n",
      "List of products: t-shirt,mug,hat,book,keychain\n",
      "\n",
      "Products Ordered: {'hat', 'book', 'mug'}\n",
      "\n",
      "Order Statistics: \n",
      "Total Products Ordered: 3\n",
      "Percentage of Products Ordered: 12.00%\n",
      "\n",
      "Last Inventory:\n",
      "t-shirt: 5\n",
      "mug: 4\n",
      "hat: 4\n",
      "book: 4\n",
      "keychain: 5\n"
     ]
    }
   ],
   "source": [
    "products = [\"t-shirt\", \"mug\", \"hat\", \"book\", \"keychain\"]\n",
    "inventory = {}\n",
    "\n",
    "for product in products:\n",
    "    inventory[product]=int(input(f\"Tell me the quantity of {product}: \"))\n",
    "\n",
    "print(\"\\nFirst inventory:\", inventory)\n",
    "\n",
    "customer_orders = set()\n",
    "\n",
    "contador = 0\n",
    "while contador < 3:\n",
    "    print(\"List of products:\",\",\".join(products))\n",
    "    product = input(\"Which product do you want? \").strip().lower()\n",
    "    \n",
    "    if product not in products:\n",
    "        print(\"Invalid product. Please choose from the list:\", \", \".join(products))\n",
    "    elif product in customer_orders:\n",
    "        print(\"Duplicate product. Please choose a different one.\")\n",
    "    else:\n",
    "        customer_orders.add(product)\n",
    "        contador += 1\n",
    "\n",
    "# for i in range(3):\n",
    "#     product = input(f\"Tell the product {i+1}\")\n",
    "#     if product not in customer_orders:\n",
    "#         customer_orders.add(product)\n",
    "\n",
    "print(\"\\nProducts Ordered:\", customer_orders)\n",
    "\n",
    "total_products_ordered = len(customer_orders)\n",
    "\n",
    "total_products = 0\n",
    "for i in inventory.values():\n",
    "    total_products = total_products + i\n",
    "\n",
    "if total_products>0:\n",
    "    percentage_ordered = (total_products_ordered / total_products) * 100 \n",
    "else:\n",
    "    percentage_ordered = 0\n",
    "\n",
    "order_status = (total_products_ordered,percentage_ordered)\n",
    "\n",
    "print(f'''\n",
    "Order Statistics: \n",
    "Total Products Ordered: {order_status[0]}\n",
    "Percentage of Products Ordered: {order_status[1]:.2f}%\n",
    "''')\n",
    "\n",
    "\n",
    "for product in customer_orders:\n",
    "    if inventory[product] > 0:\n",
    "        inventory[product] -= 1\n",
    "\n",
    "print(\"Last Inventory:\")\n",
    "for product, quantity in inventory.items():\n",
    "    print(f\"{product}: {quantity}\")"
   ]
  }
 ],
 "metadata": {
  "kernelspec": {
   "display_name": "venv",
   "language": "python",
   "name": "python3"
  },
  "language_info": {
   "codemirror_mode": {
    "name": "ipython",
    "version": 3
   },
   "file_extension": ".py",
   "mimetype": "text/x-python",
   "name": "python",
   "nbconvert_exporter": "python",
   "pygments_lexer": "ipython3",
   "version": "3.12.2"
  }
 },
 "nbformat": 4,
 "nbformat_minor": 4
}
